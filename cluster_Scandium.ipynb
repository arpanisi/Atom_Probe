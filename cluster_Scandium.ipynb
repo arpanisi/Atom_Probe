{
 "cells": [
  {
   "cell_type": "code",
   "execution_count": null,
   "metadata": {
    "collapsed": true
   },
   "outputs": [],
   "source": [
    "import h5py\n",
    "import matplotlib.colors as cols\n",
    "from apt_importers import *"
   ]
  },
  {
   "cell_type": "code",
   "execution_count": null,
   "metadata": {},
   "outputs": [],
   "source": [
    "h5file = h5py.File('Data/h5py_files/R12_Al-Sc.h5', 'r')\n",
    "visu = h5file['Visualization']\n",
    "visu_keys = visu.keys()\n",
    "dpos = pd.concat([pd.Series(visu[k].value, name=k) for k in visu_keys], axis=1)\n",
    "volvis(dpos)\n",
    "obb = OBB.build_from_points(dpos.loc[:, ['x', 'y', 'z']].values)"
   ]
  },
  {
   "cell_type": "code",
   "execution_count": null,
   "metadata": {},
   "outputs": [],
   "source": [
    "Sc_pos = dpos.loc[dpos.Element == 'Sc', :]\n",
    "pos1, pos2, _ = singleton_removal(Sc_pos, k=10, alpha=0.01)\n",
    "\n",
    "viz = False\n",
    "if viz is True:\n",
    "    cm = plt.get_cmap('gist_rainbow')\n",
    "    cmap = np.asarray([cm(1. * i / 2) for i in range(2)])\n",
    "    colors = [np.tile(cmap[0, :], (len(pos1), 1)), np.tile(cmap[1, :], (len(pos2), 1))]\n",
    "\n",
    "    canvas = multiple_volvis([pos1, pos2], colors=colors, obb=obb)"
   ]
  },
  {
   "cell_type": "code",
   "execution_count": null,
   "metadata": {},
   "outputs": [],
   "source": [
    "from sklearn.metrics.pairwise import rbf_kernel\n",
    "from sklearn.preprocessing import normalize\n",
    "\n",
    "cpos = pos1.loc[:, ['x', 'y', 'z']].values\n",
    "A_Sc = rbf_kernel(cpos, gamma=1./20.)\n",
    "A_Sc[A_Sc < 1e-3] = 0"
   ]
  },
  {
   "cell_type": "code",
   "execution_count": null,
   "metadata": {},
   "outputs": [],
   "source": [
    "import networkx as nx\n",
    "import matplotlib.colors as cols\n",
    "\n",
    "A_Sc_norm = normalize(A_Sc, norm='l1', axis=1)\n",
    "A_Sc_norm[A_Sc_norm < 1e-3] = 0\n",
    "\n",
    "G = nx.from_numpy_array(A_Sc)\n",
    "G_Sc = nx.from_numpy_array(A_Sc_norm)\n",
    "elarge=[(u,v) for (u,v,d) in G_Sc.edges(data=True) if d['weight'] < 0.04]\n",
    "\n",
    "pos = nx.spring_layout(G, k=0.2)\n",
    "cmap = plt.get_cmap('gist_rainbow')\n",
    "\n",
    "degree = np.sum(A_Sc, axis=1)\n",
    "degree = degree / np.max(degree)\n",
    "\n",
    "fig = plt.figure()\n",
    "ax = fig.add_subplot(111)\n",
    "nodes = nx.draw_networkx_nodes(G, pos, node_color=degree, edgecolors='k', ax=ax)\n",
    "cbar = plt.colorbar(nodes)\n",
    "cbar.ax.tick_params(labelsize=26) \n",
    "nx.draw_networkx_edges(G, pos, edgelist=G_Sc.edges(data=True), width=1, ax=ax,style='dashed')\n",
    "ax.set_axis_off()\n",
    "plt.savefig('/home/larpanmuk/Documents/Papers_n_Thesis/APT_ML/fig/graph.png', bbox_inches='tight', dpi=300)"
   ]
  },
  {
   "cell_type": "code",
   "execution_count": null,
   "metadata": {},
   "outputs": [],
   "source": [
    "fig = plt.figure()\n",
    "ax = fig.add_subplot(111)\n",
    "img = ax.imshow(A_Sc, cmap='jet')\n",
    "ax.set_xlabel('Scandium Atoms')\n",
    "ax.set_ylabel('Scandium Atoms')\n",
    "ax.xaxis.label.set_size(26)\n",
    "ax.yaxis.label.set_size(26)           \n",
    "cbar = plt.colorbar(img)\n",
    "ax.set_yticks([])\n",
    "ax.set_xticks([])\n",
    "cbar.ax.tick_params(labelsize=26) \n",
    "plt.savefig('/home/larpanmuk/Documents/Papers_n_Thesis/APT_ML/fig/distance.png', bbox_inches='tight', dpi=300)"
   ]
  },
  {
   "cell_type": "code",
   "execution_count": null,
   "metadata": {},
   "outputs": [],
   "source": [
    "import community\n",
    "\n",
    "partition = community.best_partition(G_Sc)\n",
    "comm_str = np.asarray([val for (key, val) in partition.iteritems()])\n",
    "pos2 = dpos.loc[dpos.element != 'Sc']"
   ]
  },
  {
   "cell_type": "code",
   "execution_count": null,
   "metadata": {},
   "outputs": [],
   "source": [
    "convex_hull_clusters(pos=pos1, comm_str=comm_str, pos2=pos2, viz=True, obb=obb, same_color=True)"
   ]
  }
 ],
 "metadata": {
  "kernelspec": {
   "display_name": "Python 2",
   "language": "python",
   "name": "python2"
  },
  "language_info": {
   "codemirror_mode": {
    "name": "ipython",
    "version": 2
   },
   "file_extension": ".py",
   "mimetype": "text/x-python",
   "name": "python",
   "nbconvert_exporter": "python",
   "pygments_lexer": "ipython2",
   "version": "2.7.6"
  }
 },
 "nbformat": 4,
 "nbformat_minor": 0
}
